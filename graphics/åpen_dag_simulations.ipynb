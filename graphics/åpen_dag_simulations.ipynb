{
 "cells": [
  {
   "cell_type": "code",
   "execution_count": null,
   "id": "a80e4e4a",
   "metadata": {},
   "outputs": [],
   "source": [
    "import numpy as np\n",
    "#import matplotlib.pyplot as plt\n",
    "import bubblebox as bb\n",
    "%matplotlib notebook"
   ]
  },
  {
   "cell_type": "code",
   "execution_count": null,
   "id": "7b124dba",
   "metadata": {},
   "outputs": [],
   "source": [
    "# ideal gas\n",
    "\n",
    "Np = 64\n",
    "b = bb.box(Np, box = (-15,-15), vel = 4.0)\n",
    "b.masses = np.random.uniform(1,3,Np)\n",
    "b.interactions *= 0.0\n",
    "b.run(n_steps_per_vis = 10)"
   ]
  },
  {
   "cell_type": "code",
   "execution_count": null,
   "id": "b2a72e2d",
   "metadata": {},
   "outputs": [],
   "source": [
    "# interacting liquid\n",
    "\n",
    "Np = 10**2\n",
    "b = bb.box(Np, box = (-8,-8), vel = 2.5)\n",
    "b.r2_cut = 8\n",
    "b.masses = np.random.uniform(1,10,Np)\n",
    "#b.masses[int(Np/2):] = 10\n",
    "b.interactions[:,:,0] = 13.2\n",
    "b.run(n_steps_per_vis = 10)"
   ]
  },
  {
   "cell_type": "code",
   "execution_count": null,
   "id": "9e6c34d2",
   "metadata": {},
   "outputs": [],
   "source": [
    "# interacting\n",
    "Np = 256\n",
    "b = bb.box(Np, box = (15,15), vel = 4.0)\n",
    "b.masses = np.random.uniform(1,3,Np)\n",
    "b.interactions[:,:,0] = 20.2\n",
    "b.run(n_steps_per_vis = 10)"
   ]
  },
  {
   "cell_type": "code",
   "execution_count": null,
   "id": "160b0611",
   "metadata": {},
   "outputs": [],
   "source": []
  },
  {
   "cell_type": "code",
   "execution_count": null,
   "id": "45a8b602",
   "metadata": {},
   "outputs": [],
   "source": [
    "# solid\n",
    "\n",
    "Np = 16**2\n",
    "b = bb.box(Np, box = (-8,-8), vel = 0.0)\n",
    "b.r2_cut = 8\n",
    "b.masses = np.random.uniform(1,10,Np)\n",
    "#b.masses[int(Np/2):] = 10\n",
    "b.interactions[:,:,0] = 13.2\n",
    "b.run(n_steps_per_vis = 20)"
   ]
  },
  {
   "cell_type": "code",
   "execution_count": null,
   "id": "13d3642d",
   "metadata": {},
   "outputs": [],
   "source": [
    "# attraction\n",
    "\n",
    "Np = 8**2\n",
    "b = bb.box(Np, box = (-18,-18), vel = 1.0)\n",
    "b.r2_cut = 8\n",
    "#b.masses = np.random.uniform(1,10,Np)\n",
    "\n",
    "b.force = bb.coulomb_force\n",
    "#b.masses[int(Np/2):] = 10\n",
    "b.interactions[:,:,0] = 10\n",
    "b.interactions[:,:,1] = 10\n",
    "i = np.random.randint(0,Np)\n",
    "b.interactions[i,:,0] = -1\n",
    "b.interactions[:,i,0] = -1\n",
    "b.masses[i] = 1\n",
    "b.run(n_steps_per_vis = 20)"
   ]
  },
  {
   "cell_type": "code",
   "execution_count": null,
   "id": "79759d41",
   "metadata": {},
   "outputs": [],
   "source": [
    "s = bb.box(n_bubbles = 2, box = (4,4), vel = 0)\n",
    "\n",
    "# plasser partiklene i boksen\n",
    "s.pos[:, 0] = np.array([0,0]) # i senter\n",
    "s.pos[:, 1] = np.array([0,1.0]) # i (x,y) = (0,1)\n",
    "\n",
    "# gi starthastighet\n",
    "s.vel[:, 1] = np.array([1.0,0])\n",
    "s.masses = np.array([10,5]) #\n",
    "s.active = np.array([False, True]) #antar at m_p >> m_e\n",
    "\n",
    "s.set_charges([1,-1]) #ladningene\n",
    "\n",
    "        \n",
    "# velg Coulomb-kraften\n",
    "s.force = bb.coulomb_force\n",
    "\n",
    "# velg en screening-cutoff\n",
    "s.r2_cut = 10\n",
    "\n",
    "# Tidssteg\n",
    "s.dt = 0.0001\n",
    "\n",
    "\n",
    "\n",
    "# Kjør simuleringen \n",
    "s.run(100,1)"
   ]
  },
  {
   "cell_type": "code",
   "execution_count": 1,
   "id": "5e60f830",
   "metadata": {},
   "outputs": [
    {
     "name": "stderr",
     "output_type": "stream",
     "text": [
      "/opt/anaconda3/lib/python3.7/site-packages/braketlab/braketlab.py:33: SymPyDeprecationWarning: \n",
      "\n",
      "The sympy.utilities.runtests submodule is deprecated. Use sympy.testing.runtests instead.\n",
      "\n",
      "See https://docs.sympy.org/latest/explanation/active-deprecations.html#deprecated-sympy-utilities-submodules\n",
      "for details.\n",
      "\n",
      "This has been deprecated since SymPy version 1.6. It\n",
      "will be removed in a future version of SymPy.\n",
      "\n",
      "  from sympy.utilities.runtests import split_list\n"
     ]
    }
   ],
   "source": [
    "import evince as ev\n",
    "import numpy as np\n",
    "import braketlab as bk"
   ]
  },
  {
   "cell_type": "code",
   "execution_count": 10,
   "id": "e42df11a",
   "metadata": {},
   "outputs": [
    {
     "name": "stdout",
     "output_type": "stream",
     "text": [
      "Could not extract isosurface for value = 0.04245805651514609 -0.04245805651514609\n",
      "Could not extract isosurface for value = 0.07820080817330477 -0.07820080817330477\n",
      "Could not extract isosurface for value = 0.12477469669757214 -0.12477469669757214\n",
      "Could not extract isosurface for value = 0.18217972208794822 -0.18217972208794822\n",
      "Could not extract isosurface for value = 0.25041588434443296 -0.25041588434443296\n",
      "Could not extract isosurface for value = 0.32948318346702643 -0.32948318346702643\n",
      "Could not extract isosurface for value = 0.4193816194557286 -0.4193816194557286\n",
      "Could not extract isosurface for value = 0.5201111923105395 -0.5201111923105395\n",
      "Could not extract isosurface for value = 0.631671902031459 -0.631671902031459\n",
      "Could not extract isosurface for value = 0.7540637486184872 -0.7540637486184872\n",
      "Could not extract isosurface for value = 0.8872867320716241 -0.8872867320716241\n",
      "Could not extract isosurface for value = 1.0313408523908698 -1.0313408523908698\n",
      "Could not extract isosurface for value = 1.1862261095762243 -1.1862261095762243\n",
      "Could not extract isosurface for value = 1.351942503627687 -1.351942503627687\n",
      "Could not extract isosurface for value = 1.528490034545259 -1.528490034545259\n",
      "10\n"
     ]
    },
    {
     "data": {
      "application/vnd.jupyter.widget-view+json": {
       "model_id": "d6ff7f9ad41c4246aaf0743bc7096a76",
       "version_major": 2,
       "version_minor": 0
      },
      "text/plain": [
       "Renderer(camera=PerspectiveCamera(position=(0.0, 5.0, 5.0), projectionMatrix=(1.0, 0.0, 0.0, 0.0, 0.0, 1.0, 0.…"
      ]
     },
     "metadata": {},
     "output_type": "display_data"
    }
   ],
   "source": [
    "n_atoms = 4\n",
    "\n",
    "z = np.zeros((n_atoms,4))\n",
    "z[0,:] = np.random.randint(1,10,n_atoms)\n",
    "z[1:,:] = np.random.uniform(-1,1,(3,n_atoms))\n",
    "\n",
    "orb_p = z[0,0]*bk.basisbank.get_gto(1,0,0,position = z[0,1:])\n",
    "for i in range(1, n_atoms):\n",
    "    orb_p += z[i,0]*bk.basisbank.get_gto(.1,0,0,position = z[i,1:])\n",
    "    \n",
    "    \n",
    "m = ev.models.molecule(ket = orb_p, extent = 10)\n",
    "m.add_atoms(z.T)\n",
    "m.add_orbital(orb_p,c2 = \"#338888\",  c1 = \"#2f0209\")\n",
    "#m.add_surface(orb_p)\n",
    "#m.setup_atomic_surface(orb_p, n_exp = 2)\n",
    "print(m.extent)\n",
    "\n",
    "m.render()"
   ]
  },
  {
   "cell_type": "code",
   "execution_count": null,
   "id": "b298ba0b",
   "metadata": {},
   "outputs": [],
   "source": [
    "ev.processing.extract_surface(orb, val = 1.0, n_exp = 2)"
   ]
  },
  {
   "cell_type": "code",
   "execution_count": null,
   "id": "d0fa54c6",
   "metadata": {},
   "outputs": [],
   "source": []
  },
  {
   "cell_type": "code",
   "execution_count": null,
   "id": "ff3b198f",
   "metadata": {},
   "outputs": [],
   "source": []
  },
  {
   "cell_type": "code",
   "execution_count": null,
   "id": "a960de95",
   "metadata": {},
   "outputs": [],
   "source": [
    "ev.system"
   ]
  }
 ],
 "metadata": {
  "kernelspec": {
   "display_name": "Python 3 (ipykernel)",
   "language": "python",
   "name": "python3"
  },
  "language_info": {
   "codemirror_mode": {
    "name": "ipython",
    "version": 3
   },
   "file_extension": ".py",
   "mimetype": "text/x-python",
   "name": "python",
   "nbconvert_exporter": "python",
   "pygments_lexer": "ipython3",
   "version": "3.7.4"
  }
 },
 "nbformat": 4,
 "nbformat_minor": 5
}
